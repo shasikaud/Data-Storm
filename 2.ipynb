{
 "cells": [
  {
   "cell_type": "code",
   "execution_count": 6,
   "metadata": {},
   "outputs": [],
   "source": [
    "import tensorflow as tf\n",
    "from tensorflow.keras.wrappers.scikit_learn import KerasClassifier\n",
    "from sklearn.model_selection import GridSearchCV\n",
    "import pandas as pd\n",
    "import numpy as np\n",
    "from sklearn import preprocessing\n",
    "from sklearn.model_selection import train_test_split\n",
    "from tensorflow.keras.regularizers import l2\n",
    "from sklearn.decomposition import PCA\n",
    "from sklearn.preprocessing import StandardScaler,MinMaxScaler\n",
    "import matplotlib.pyplot as plt\n",
    "import scipy"
   ]
  },
  {
   "cell_type": "code",
   "execution_count": 19,
   "metadata": {},
   "outputs": [],
   "source": [
    "train_data = pd.read_csv('E:/ML_IP/ML_projects/datastorm/credit_card_default_train.csv')\n",
    "predict_data = pd.read_csv('E:/ML_IP/ML_projects/datastorm/credit_card_default_test.csv')\n",
    "\n",
    "train_data=train_data.drop(columns='Client_ID')\n",
    "predict_data=predict_data.drop(columns='Client_ID')\n"
   ]
  },
  {
   "cell_type": "code",
   "execution_count": 20,
   "metadata": {},
   "outputs": [],
   "source": [
    "new_balance_limit_v1=[]\n",
    "scales=[]\n",
    "for data in train_data['Balance_Limit_V1']:\n",
    "    scale=0\n",
    "    if data[-1]=='K':\n",
    "        data=str(float(data[:-1]))\n",
    "        scale=1 #KILO\n",
    "    elif data[-1]=='M':\n",
    "        data=str(float(data[:-1]))\n",
    "        scale=2 #MEGA\n",
    "    new_balance_limit_v1.append(data)\n",
    "    scales.append(scale)\n",
    "train_data['Balance_Limit_V1']=new_balance_limit_v1\n",
    "train_data['scale_balance_limit_v1']=scales\n",
    "\n",
    "\n",
    "new_balance_limit_v1=[]\n",
    "scales=[]\n",
    "for data in predict_data['Balance_Limit_V1']:\n",
    "    scale=0\n",
    "    if data[-1]=='K':\n",
    "        data=str(float(data[:-1]))\n",
    "        scale=1 #KILO\n",
    "    elif data[-1]=='M':\n",
    "        data=str(float(data[:-1]))\n",
    "        scale=2 #MEGA\n",
    "    new_balance_limit_v1.append(data)\n",
    "    scales.append(scale)\n",
    "predict_data['Balance_Limit_V1']=new_balance_limit_v1\n",
    "predict_data['scale_balance_limit_v1']=scales"
   ]
  },
  {
   "cell_type": "code",
   "execution_count": 21,
   "metadata": {},
   "outputs": [
    {
     "data": {
      "text/plain": [
       "23995    436470\n",
       "23996      3888\n",
       "23997      8235\n",
       "23998     -3800\n",
       "23999    110716\n",
       "Name: DUE_AMT_JULY, dtype: int64"
      ]
     },
     "execution_count": 21,
     "metadata": {},
     "output_type": "execute_result"
    }
   ],
   "source": [
    "train_data['DUE_AMT_JULY'].tail()"
   ]
  },
  {
   "cell_type": "code",
   "execution_count": 22,
   "metadata": {},
   "outputs": [],
   "source": [
    "def sigmoid(arr):\n",
    "    return 1/(1+scipy.special.expit(-arr))"
   ]
  },
  {
   "cell_type": "code",
   "execution_count": null,
   "metadata": {},
   "outputs": [],
   "source": []
  },
  {
   "cell_type": "code",
   "execution_count": 23,
   "metadata": {},
   "outputs": [],
   "source": [
    "ep=10\n",
    "gen_1=sigmoid(train_data['DUE_AMT_JULY']/(train_data['PAID_AMT_JULY']+ep))\n",
    "gen_2=sigmoid(train_data['DUE_AMT_AUG']/(train_data['PAID_AMT_AUG']+ep))\n",
    "gen_3=sigmoid(train_data['DUE_AMT_SEP']/(train_data['PAID_AMT_SEP']+ep))\n",
    "gen_4=sigmoid(train_data['DUE_AMT_OCT']/(train_data['PAID_AMT_OCT']+ep))\n",
    "gen_5=sigmoid(train_data['DUE_AMT_NOV']/(train_data['PAID_AMT_NOV']+ep))\n",
    "gen_6=sigmoid(train_data['DUE_AMT_DEC']/(train_data['PAID_AMT_DEC']+ep))\n",
    "\n",
    "gen_7=sigmoid((train_data['DUE_AMT_JULY']+train_data['DUE_AMT_AUG']+train_data['DUE_AMT_SEP']+train_data['DUE_AMT_OCT']+train_data['DUE_AMT_NOV']+train_data['DUE_AMT_DEC'])/(train_data['PAID_AMT_JULY']+train_data['PAID_AMT_AUG']+train_data['PAID_AMT_SEP']+train_data['PAID_AMT_OCT']+train_data['PAID_AMT_NOV']+train_data['PAID_AMT_DEC']+ep))\n",
    "gen_8=sigmoid(train_data['DUE_AMT_AUG']+train_data['PAID_AMT_AUG'])\n",
    "gen_9=sigmoid(train_data['DUE_AMT_SEP']+train_data['PAID_AMT_SEP'])\n",
    "gen_10=sigmoid(train_data['DUE_AMT_OCT']+train_data['PAID_AMT_OCT'])\n",
    "gen_11=sigmoid(train_data['DUE_AMT_NOV']+train_data['PAID_AMT_NOV'])\n",
    "gen_12=sigmoid(train_data['DUE_AMT_DEC']+train_data['PAID_AMT_DEC'])\n",
    "gen_13=train_data['PAY_JULY']+train_data['PAY_AUG']+train_data['PAY_SEP']+train_data['PAY_OCT']+train_data['PAY_NOV']+train_data['PAY_DEC']\n",
    "train_data['gen1']=gen_1\n",
    "train_data['gen2']=gen_2\n",
    "train_data['gen3']=gen_3\n",
    "train_data['gen4']=gen_4\n",
    "train_data['gen5']=gen_5\n",
    "train_data['gen6']=gen_6\n",
    "train_data['gen7']=gen_7\n",
    "train_data['gen8']=gen_8\n",
    "train_data['gen9']=gen_9\n",
    "train_data['gen10']=gen_10\n",
    "train_data['gen11']=gen_11\n",
    "train_data['gen12']=gen_12\n",
    "train_data['gen13']=gen_13\n",
    "\n",
    "\n",
    "gen_1=sigmoid(predict_data['DUE_AMT_JULY']/(predict_data['PAID_AMT_JULY']+ep))\n",
    "gen_2=sigmoid(predict_data['DUE_AMT_AUG']/(predict_data['PAID_AMT_AUG']+ep))\n",
    "gen_3=sigmoid(predict_data['DUE_AMT_SEP']/(predict_data['PAID_AMT_SEP']+ep))\n",
    "gen_4=sigmoid(predict_data['DUE_AMT_OCT']/(predict_data['PAID_AMT_OCT']+ep))\n",
    "gen_5=sigmoid(predict_data['DUE_AMT_NOV']/(predict_data['PAID_AMT_NOV']+ep))\n",
    "gen_6=sigmoid(predict_data['DUE_AMT_DEC']/(predict_data['PAID_AMT_DEC']+ep))\n",
    "\n",
    "gen_7=sigmoid((predict_data['DUE_AMT_JULY']+predict_data['DUE_AMT_AUG']+predict_data['DUE_AMT_SEP']+predict_data['DUE_AMT_OCT']+predict_data['DUE_AMT_NOV']+predict_data['DUE_AMT_DEC'])/(predict_data['PAID_AMT_JULY']+predict_data['PAID_AMT_AUG']+predict_data['PAID_AMT_SEP']+predict_data['PAID_AMT_OCT']+predict_data['PAID_AMT_NOV']+predict_data['PAID_AMT_DEC']+ep))\n",
    "gen_8=sigmoid(predict_data['DUE_AMT_AUG']+predict_data['PAID_AMT_AUG'])\n",
    "gen_9=sigmoid(predict_data['DUE_AMT_SEP']+predict_data['PAID_AMT_SEP'])\n",
    "gen_10=sigmoid(predict_data['DUE_AMT_OCT']+predict_data['PAID_AMT_OCT'])\n",
    "gen_11=sigmoid(predict_data['DUE_AMT_NOV']+predict_data['PAID_AMT_NOV'])\n",
    "gen_12=sigmoid(predict_data['DUE_AMT_DEC']+predict_data['PAID_AMT_DEC'])\n",
    "gen_13=predict_data['PAY_JULY']+predict_data['PAY_AUG']+predict_data['PAY_SEP']+predict_data['PAY_OCT']+predict_data['PAY_NOV']+predict_data['PAY_DEC']\n",
    "\n",
    "\n",
    "predict_data['gen1']=gen_1\n",
    "predict_data['gen2']=gen_2\n",
    "predict_data['gen3']=gen_3\n",
    "predict_data['gen4']=gen_4\n",
    "predict_data['gen5']=gen_5\n",
    "predict_data['gen6']=gen_6\n",
    "predict_data['gen7']=gen_7\n",
    "predict_data['gen8']=gen_8\n",
    "predict_data['gen9']=gen_9\n",
    "predict_data['gen10']=gen_10\n",
    "predict_data['gen11']=gen_11\n",
    "predict_data['gen12']=gen_12\n",
    "predict_data['gen13']=gen_13"
   ]
  },
  {
   "cell_type": "code",
   "execution_count": 24,
   "metadata": {},
   "outputs": [],
   "source": [
    "cat_cols=['Gender', 'EDUCATION_STATUS', 'MARITAL_STATUS',\n",
    "       'AGE','scale_balance_limit_v1']"
   ]
  },
  {
   "cell_type": "code",
   "execution_count": 25,
   "metadata": {},
   "outputs": [],
   "source": [
    "train_data = pd.get_dummies( train_data,columns = cat_cols )\n",
    "predict_data=pd.get_dummies( predict_data,columns = cat_cols )"
   ]
  },
  {
   "cell_type": "code",
   "execution_count": null,
   "metadata": {},
   "outputs": [],
   "source": []
  },
  {
   "cell_type": "code",
   "execution_count": 26,
   "metadata": {},
   "outputs": [],
   "source": [
    "#print(train_data.isnull().sum().sum(),predict_data.isnull().sum().sum())"
   ]
  },
  {
   "cell_type": "code",
   "execution_count": 27,
   "metadata": {},
   "outputs": [
    {
     "name": "stdout",
     "output_type": "stream",
     "text": [
      "['NEXT_MONTH_DEFAULT'] []\n"
     ]
    }
   ],
   "source": [
    "only_in_train=[x for x in train_data if x not in predict_data]\n",
    "only_in_predict=[x for x in predict_data if x not in train_data] #this  should be []\n",
    "print(only_in_train,only_in_predict)"
   ]
  },
  {
   "cell_type": "code",
   "execution_count": null,
   "metadata": {},
   "outputs": [],
   "source": []
  },
  {
   "cell_type": "code",
   "execution_count": 28,
   "metadata": {},
   "outputs": [],
   "source": [
    "#make the no of predict_data columns same as the train_data\n",
    "for col in only_in_train:\n",
    "    if col=='NEXT_MONTH_DEFAULT':\n",
    "        pass\n",
    "    else:\n",
    "        predict_data[col]=np.zeros((len(predict_data[predict_data.keys()[0]]),1))\n",
    "        "
   ]
  },
  {
   "cell_type": "code",
   "execution_count": 18,
   "metadata": {},
   "outputs": [
    {
     "name": "stdout",
     "output_type": "stream",
     "text": [
      "Random over-sampling:\n",
      "1    18670\n",
      "0    18670\n",
      "Name: NEXT_MONTH_DEFAULT, dtype: int64\n"
     ]
    },
    {
     "data": {
      "image/png": "[encoded data removed]",
      "text/plain": [
       "<Figure size 432x288 with 1 Axes>"
      ]
     },
     "metadata": {
      "needs_background": "light"
     },
     "output_type": "display_data"
    }
   ],
   "source": [
    "# Over sampling\n",
    "count_class_0, count_class_1 = train_data['NEXT_MONTH_DEFAULT'].value_counts()\n",
    "df_class_0 = train_data[train_data['NEXT_MONTH_DEFAULT'] == 0]\n",
    "df_class_1 = train_data[train_data['NEXT_MONTH_DEFAULT'] == 1]\n",
    "# over sampling\n",
    "df_class_1_over = df_class_1.sample(count_class_0, replace=True)\n",
    "df_over = pd.concat([df_class_0, df_class_1_over], axis=0)\n",
    "\n",
    "print('Random over-sampling:')\n",
    "print(df_over['NEXT_MONTH_DEFAULT'].value_counts())\n",
    "\n",
    "df_over['NEXT_MONTH_DEFAULT'].value_counts().plot(kind='bar', title='Count (target)');\n",
    "\n",
    "# under sampling\n",
    "'''\n",
    "df_class_0_under = df_class_0.sample(count_class_1, replace=True)\n",
    "df_under = pd.concat([df_class_1, df_class_0_under], axis=0)\n",
    "\n",
    "print('Random under-sampling:')\n",
    "print(df_under['NEXT_MONTH_DEFAULT'].value_counts())\n",
    "\n",
    "df_under['NEXT_MONTH_DEFAULT'].value_counts().plot(kind='bar', title='Count (target)');\n",
    "\n",
    "'''\n",
    "# train_data= df_test_under / df_test_over\n",
    "train_data=df_over"
   ]
  },
  {
   "cell_type": "code",
   "execution_count": 332,
   "metadata": {},
   "outputs": [
    {
     "data": {
      "text/plain": [
       "(Index(['Balance_Limit_V1', 'PAY_JULY', 'PAY_AUG', 'PAY_SEP', 'PAY_OCT',\n",
       "        'PAY_NOV', 'PAY_DEC', 'DUE_AMT_JULY', 'DUE_AMT_AUG', 'DUE_AMT_SEP',\n",
       "        'DUE_AMT_OCT', 'DUE_AMT_NOV', 'DUE_AMT_DEC', 'PAID_AMT_JULY',\n",
       "        'PAID_AMT_AUG', 'PAID_AMT_SEP', 'PAID_AMT_OCT', 'PAID_AMT_NOV',\n",
       "        'PAID_AMT_DEC', 'gen1', 'gen2', 'gen3', 'gen4', 'gen5', 'gen6', 'gen7',\n",
       "        'gen8', 'gen9', 'gen10', 'gen11', 'gen12', 'gen13', 'Gender_F',\n",
       "        'Gender_M', 'EDUCATION_STATUS_Graduate', 'EDUCATION_STATUS_High School',\n",
       "        'EDUCATION_STATUS_Other', 'MARITAL_STATUS_Other',\n",
       "        'MARITAL_STATUS_Single', 'AGE_31-45', 'AGE_46-65', 'AGE_Less than 30',\n",
       "        'AGE_More than 65', 'scale_balance_limit_v1_1',\n",
       "        'scale_balance_limit_v1_2'],\n",
       "       dtype='object'),\n",
       " Index(['Balance_Limit_V1', 'PAY_JULY', 'PAY_AUG', 'PAY_SEP', 'PAY_OCT',\n",
       "        'PAY_NOV', 'PAY_DEC', 'DUE_AMT_JULY', 'DUE_AMT_AUG', 'DUE_AMT_SEP',\n",
       "        'DUE_AMT_OCT', 'DUE_AMT_NOV', 'DUE_AMT_DEC', 'PAID_AMT_JULY',\n",
       "        'PAID_AMT_AUG', 'PAID_AMT_SEP', 'PAID_AMT_OCT', 'PAID_AMT_NOV',\n",
       "        'PAID_AMT_DEC', 'gen1', 'gen2', 'gen3', 'gen4', 'gen5', 'gen6', 'gen7',\n",
       "        'gen8', 'gen9', 'gen10', 'gen11', 'gen12', 'gen13', 'Gender_F',\n",
       "        'Gender_M', 'EDUCATION_STATUS_Graduate', 'EDUCATION_STATUS_High School',\n",
       "        'EDUCATION_STATUS_Other', 'MARITAL_STATUS_Other',\n",
       "        'MARITAL_STATUS_Single', 'AGE_31-45', 'AGE_46-65', 'AGE_Less than 30',\n",
       "        'AGE_More than 65', 'scale_balance_limit_v1_1',\n",
       "        'scale_balance_limit_v1_2'],\n",
       "       dtype='object'))"
      ]
     },
     "execution_count": 332,
     "metadata": {},
     "output_type": "execute_result"
    }
   ],
   "source": [
    "train_data.drop('NEXT_MONTH_DEFAULT',axis=1).keys(),predict_data.keys()"
   ]
  },
  {
   "cell_type": "code",
   "execution_count": 29,
   "metadata": {},
   "outputs": [],
   "source": [
    "X_train, X, y_train, y = train_test_split(train_data.drop('NEXT_MONTH_DEFAULT',axis=1),train_data['NEXT_MONTH_DEFAULT'],test_size = 0.3,shuffle=True)\n",
    "X_val, X_test, y_val, y_test = train_test_split(X,y,test_size = 0.5,shuffle=False) "
   ]
  },
  {
   "cell_type": "code",
   "execution_count": 30,
   "metadata": {},
   "outputs": [
    {
     "name": "stdout",
     "output_type": "stream",
     "text": [
      "Stored 'x_udith' (DataFrame)\n",
      "Stored 'y_udith' (Series)\n"
     ]
    }
   ],
   "source": [
    "x_udith=X_train\n",
    "y_udith=y_train\n",
    "\n",
    "%store x_udith\n",
    "%store y_udith"
   ]
  },
  {
   "cell_type": "code",
   "execution_count": 335,
   "metadata": {},
   "outputs": [
    {
     "name": "stderr",
     "output_type": "stream",
     "text": [
      "C:\\Users\\Udith\\anaconda_\\envs\\opencv\\lib\\site-packages\\sklearn\\preprocessing\\data.py:323: DataConversionWarning: Data with input dtype uint8, int64, float64, object were all converted to float64 by MinMaxScaler.\n",
      "  return self.partial_fit(X, y)\n"
     ]
    },
    {
     "data": {
      "text/plain": [
       "'\\n\\nstd_scale = StandardScaler().fit(X_train)\\nX_train = pd.DataFrame(std_scale.transform(X_train))\\nX_val=pd.DataFrame(std_scale.transform(X_val))\\nX_test  = pd.DataFrame(std_scale.transform(X_test))\\nX_predict  = pd.DataFrame(std_scale.transform(predict_data))'"
      ]
     },
     "execution_count": 335,
     "metadata": {},
     "output_type": "execute_result"
    }
   ],
   "source": [
    "scaler = MinMaxScaler()\n",
    "scaler=scaler.fit(X_train)\n",
    "X_train=pd.DataFrame(scaler.transform(X_train))\n",
    "X_test=pd.DataFrame(scaler.transform(X_test))\n",
    "X_val=pd.DataFrame(scaler.transform(X_val))\n",
    "X_predict=pd.DataFrame(scaler.transform(predict_data))\n",
    "'''\n",
    "\n",
    "std_scale = StandardScaler().fit(X_train)\n",
    "X_train = pd.DataFrame(std_scale.transform(X_train))\n",
    "X_val=pd.DataFrame(std_scale.transform(X_val))\n",
    "X_test  = pd.DataFrame(std_scale.transform(X_test))\n",
    "X_predict  = pd.DataFrame(std_scale.transform(predict_data))'''"
   ]
  },
  {
   "cell_type": "code",
   "execution_count": 336,
   "metadata": {},
   "outputs": [
    {
     "data": {
      "text/plain": [
       "pandas.core.frame.DataFrame"
      ]
     },
     "execution_count": 336,
     "metadata": {},
     "output_type": "execute_result"
    }
   ],
   "source": [
    "type(X_train)"
   ]
  },
  {
   "cell_type": "code",
   "execution_count": 337,
   "metadata": {},
   "outputs": [
    {
     "data": {
      "image/png": "[encoded data removed]",
      "text/plain": [
       "<Figure size 720x720 with 2 Axes>"
      ]
     },
     "metadata": {
      "needs_background": "light"
     },
     "output_type": "display_data"
    }
   ],
   "source": [
    "#pd.plotting.scatter_matrix(X_train,figsize=(30,30))\n",
    "df=X_train\n",
    "df['y']=np.array(y_train)\n",
    "f = plt.figure(figsize=(10,10))\n",
    "plt.matshow(df.corr(), fignum=f.number)\n",
    "plt.xticks(range(df.shape[1]), df.columns, fontsize=14, rotation=45)\n",
    "plt.yticks(range(df.shape[1]), df.columns, fontsize=14)\n",
    "cb = plt.colorbar()\n",
    "cb.ax.tick_params(labelsize=14)\n",
    "plt.title('Correlation Matrix', fontsize=16);"
   ]
  },
  {
   "cell_type": "code",
   "execution_count": 338,
   "metadata": {},
   "outputs": [],
   "source": [
    "X_train=np.array(X_train)[:,:-1]"
   ]
  },
  {
   "cell_type": "code",
   "execution_count": 339,
   "metadata": {},
   "outputs": [
    {
     "data": {
      "text/plain": [
       "Index(['DUE_AMT_JULY', 'DUE_AMT_AUG', 'DUE_AMT_SEP', 'DUE_AMT_OCT',\n",
       "       'DUE_AMT_NOV', 'DUE_AMT_DEC'],\n",
       "      dtype='object')"
      ]
     },
     "execution_count": 339,
     "metadata": {},
     "output_type": "execute_result"
    }
   ],
   "source": [
    "predict_data.keys()[7:13]"
   ]
  },
  {
   "cell_type": "code",
   "execution_count": 340,
   "metadata": {},
   "outputs": [
    {
     "data": {
      "text/plain": [
       "Index(['gen1', 'gen2', 'gen3', 'gen4', 'gen5', 'gen6', 'gen7', 'gen8', 'gen9',\n",
       "       'gen10', 'gen11', 'gen12'],\n",
       "      dtype='object')"
      ]
     },
     "execution_count": 340,
     "metadata": {},
     "output_type": "execute_result"
    }
   ],
   "source": [
    "predict_data.keys()[19:31]"
   ]
  },
  {
   "cell_type": "code",
   "execution_count": 341,
   "metadata": {},
   "outputs": [
    {
     "data": {
      "text/plain": [
       "(5601, 45)"
      ]
     },
     "execution_count": 341,
     "metadata": {},
     "output_type": "execute_result"
    }
   ],
   "source": [
    "X_val.shape"
   ]
  },
  {
   "cell_type": "code",
   "execution_count": 342,
   "metadata": {},
   "outputs": [
    {
     "name": "stdout",
     "output_type": "stream",
     "text": [
      "\n",
      "SHAPES\n",
      " (26138, 45) \n",
      " (5601, 45) \n",
      " (5601, 45) \n",
      " (26138,) \n",
      " (5601,) \n",
      " (5601,) \n",
      " (6000, 45)\n",
      "no of features : 45\n",
      "Stored 'X_train' (ndarray)\n",
      "Stored 'X_test' (ndarray)\n",
      "Stored 'X_val' (ndarray)\n",
      "Stored 'y_train' (ndarray)\n",
      "Stored 'y_test' (ndarray)\n",
      "Stored 'y_val' (ndarray)\n",
      "Stored 'X_predict' (ndarray)\n"
     ]
    }
   ],
   "source": [
    "X_train=np.array(X_train) #(16800, 90) \n",
    "X_test=np.array(X_test) #(3600, 90) \n",
    "X_val=np.array(X_val) #(3600, 90) \n",
    "y_train=np.array(y_train) #(16800,)\n",
    "y_test=np.array(y_test) #(3600,)\n",
    "y_val=np.array(y_val) #(3600,)\n",
    "X_predict=np.array(X_predict) #(6000,90)\n",
    "print('\\nSHAPES\\n',X_train.shape,'\\n',X_test.shape,'\\n',X_val.shape,'\\n',y_train.shape,'\\n',y_test.shape,'\\n',y_val.shape,'\\n',X_predict.shape)\n",
    "\n",
    "n_features=X_train.shape[1]\n",
    "print('no of features :',n_features)\n",
    "\n",
    "\n",
    "pd.DataFrame(X_train).to_csv(\"data/X_train.csv\")\n",
    "pd.DataFrame(X_test).to_csv(\"data/X_test.csv\")\n",
    "pd.DataFrame(X_val).to_csv(\"data/X_val.csv\")\n",
    "pd.DataFrame(y_train).to_csv(\"data/y_train.csv\")\n",
    "pd.DataFrame(y_test).to_csv(\"data/y_test.csv\")\n",
    "pd.DataFrame(y_val).to_csv(\"data/y_val.csv\")\n",
    "pd.DataFrame(X_predict).to_csv(\"data/X_predict.csv\")\n",
    "\n",
    "%store X_train\n",
    "%store X_test\n",
    "%store X_val\n",
    "%store y_train\n",
    "%store y_test\n",
    "%store y_val\n",
    "%store X_predict\n",
    "\n"
   ]
  },
  {
   "cell_type": "code",
   "execution_count": 5,
   "metadata": {},
   "outputs": [
    {
     "ename": "NameError",
     "evalue": "name 'pd' is not defined",
     "output_type": "error",
     "traceback": [
      "\u001b[1;31m---------------------------------------------------------------------------\u001b[0m",
      "\u001b[1;31mNameError\u001b[0m                                 Traceback (most recent call last)",
      "\u001b[1;32m<ipython-input-5-233604904dc8>\u001b[0m in \u001b[0;36m<module>\u001b[1;34m\u001b[0m\n\u001b[0;32m      8\u001b[0m \u001b[1;31m# over sampling\u001b[0m\u001b[1;33m\u001b[0m\u001b[1;33m\u001b[0m\u001b[0m\n\u001b[0;32m      9\u001b[0m \u001b[0mdf_class_1_over\u001b[0m \u001b[1;33m=\u001b[0m \u001b[0mdf_class_1\u001b[0m\u001b[1;33m.\u001b[0m\u001b[0msample\u001b[0m\u001b[1;33m(\u001b[0m\u001b[0mcount_class_0\u001b[0m\u001b[1;33m,\u001b[0m \u001b[0mreplace\u001b[0m\u001b[1;33m=\u001b[0m\u001b[1;32mTrue\u001b[0m\u001b[1;33m)\u001b[0m\u001b[1;33m\u001b[0m\u001b[0m\n\u001b[1;32m---> 10\u001b[1;33m \u001b[0mdf_over\u001b[0m \u001b[1;33m=\u001b[0m \u001b[0mpd\u001b[0m\u001b[1;33m.\u001b[0m\u001b[0mconcat\u001b[0m\u001b[1;33m(\u001b[0m\u001b[1;33m[\u001b[0m\u001b[0mdf_class_0\u001b[0m\u001b[1;33m,\u001b[0m \u001b[0mdf_class_1_over\u001b[0m\u001b[1;33m]\u001b[0m\u001b[1;33m,\u001b[0m \u001b[0maxis\u001b[0m\u001b[1;33m=\u001b[0m\u001b[1;36m0\u001b[0m\u001b[1;33m)\u001b[0m\u001b[1;33m\u001b[0m\u001b[0m\n\u001b[0m\u001b[0;32m     11\u001b[0m \u001b[1;33m\u001b[0m\u001b[0m\n\u001b[0;32m     12\u001b[0m \u001b[0mdf_over\u001b[0m\u001b[1;33m[\u001b[0m\u001b[1;34m'NEXT_MONTH_DEFAULT'\u001b[0m\u001b[1;33m]\u001b[0m\u001b[1;33m.\u001b[0m\u001b[0mvalue_counts\u001b[0m\u001b[1;33m(\u001b[0m\u001b[1;33m)\u001b[0m\u001b[1;33m.\u001b[0m\u001b[0mplot\u001b[0m\u001b[1;33m(\u001b[0m\u001b[0mkind\u001b[0m\u001b[1;33m=\u001b[0m\u001b[1;34m'bar'\u001b[0m\u001b[1;33m,\u001b[0m \u001b[0mtitle\u001b[0m\u001b[1;33m=\u001b[0m\u001b[1;34m'Count (target)'\u001b[0m\u001b[1;33m)\u001b[0m\u001b[1;33m;\u001b[0m\u001b[1;33m\u001b[0m\u001b[0m\n",
      "\u001b[1;31mNameError\u001b[0m: name 'pd' is not defined"
     ]
    }
   ],
   "source": [
    "### afham\n",
    "%store -r train_data\n",
    "tot=train_data\n",
    "# Over sampling\n",
    "count_class_0, count_class_1 = tot['NEXT_MONTH_DEFAULT'].value_counts()\n",
    "df_class_0 = train_data[tot['NEXT_MONTH_DEFAULT'] == 0]\n",
    "df_class_1 = train_data[tot['NEXT_MONTH_DEFAULT'] == 1]\n",
    "# over sampling\n",
    "df_class_1_over = df_class_1.sample(count_class_0, replace=True)\n",
    "df_over = pd.concat([df_class_0, df_class_1_over], axis=0)\n",
    "\n",
    "df_over['NEXT_MONTH_DEFAULT'].value_counts().plot(kind='bar', title='Count (target)');\n",
    "\n",
    "# train_data= df_test_under / df_test_over\n",
    "tot=df_over\n",
    "\n",
    "tot['NEXT_MONTH_DEFAULT'].value_counts().plot(kind='bar', title='Count (target)');\n",
    "\n",
    "target = 'NEXT_MONTH_DEFAULT'\n",
    "ID = 'Client_ID'\n",
    "\n",
    "X_train, X_test, y_train, y_test = train_test_split(tot.drop([target,ID,'Balance_Limit_V1','Gender','EDUCATION_STATUS','MARITAL_STATUS','AGE'],axis=1), \n",
    "                                                    tot[target], test_size=0.30)\n",
    "# check the type\n",
    "%store X_train\n",
    "%store y_train\n",
    "%store X_test\n",
    "%store y_test\n",
    "\n",
    "\n",
    "\n",
    "X_train=np.array(X_train) #(16800, 90) \n",
    "X_test=np.array(X_test) #(3600, 90) \n",
    "y_train=np.array(y_train) #(16800,)\n",
    "y_test=np.array(y_test) #(3600,)\n"
   ]
  },
  {
   "cell_type": "code",
   "execution_count": 23,
   "metadata": {},
   "outputs": [],
   "source": [
    "n_features=X_train.shape[1]"
   ]
  },
  {
   "cell_type": "code",
   "execution_count": 409,
   "metadata": {},
   "outputs": [
    {
     "data": {
      "text/plain": [
       "0.5018746652383503"
      ]
     },
     "execution_count": 409,
     "metadata": {},
     "output_type": "execute_result"
    }
   ],
   "source": [
    "y_train.sum()/len(y_train)"
   ]
  },
  {
   "cell_type": "code",
   "execution_count": null,
   "metadata": {},
   "outputs": [],
   "source": [
    "%matplotlib inline\n",
    "df=pd.DataFrame()\n",
    "df['op']=y_train\n",
    "for i in range(27):\n",
    "    df['ip']=X_train[:,i]\n",
    "    pd.plotting.scatter_matrix(df,figsize=(5,5))\n",
    "    plt.suptitle(predict_data.keys()[i])"
   ]
  },
  {
   "cell_type": "code",
   "execution_count": 24,
   "metadata": {},
   "outputs": [
    {
     "name": "stdout",
     "output_type": "stream",
     "text": [
      "no of features : 27\n"
     ]
    },
    {
     "data": {
      "text/plain": [
       "<matplotlib.legend.Legend at 0x1d148b51358>"
      ]
     },
     "execution_count": 24,
     "metadata": {},
     "output_type": "execute_result"
    },
    {
     "data": {
      "image/png": "[encoded data removed]",
      "text/plain": [
       "<Figure size 720x720 with 1 Axes>"
      ]
     },
     "metadata": {
      "needs_background": "light"
     },
     "output_type": "display_data"
    }
   ],
   "source": [
    "#analyse variance by PCA curve\n",
    "\n",
    "\n",
    "pca_dims=2   ###### number of wanted PCA dims\n",
    "\n",
    "print('no of features :',n_features)\n",
    "\n",
    "pca = PCA(n_components=pca_dims)\n",
    "X_train_pca=pca.fit_transform(X_train)  \n",
    "X_test_pca=pca.fit_transform(X_test)  \n",
    "#X_val_pca=pca.fit_transform(X_val)  \n",
    "\n",
    "################################### plot PCA- CURVE ##########################################################################\n",
    "\n",
    "cumsum = np.cumsum(pca.explained_variance_ratio_)*100\n",
    "d = [n for n in range(len(cumsum))]\n",
    "plt.figure(figsize=(10, 10))\n",
    "plt.plot(d,cumsum, color = 'red',label='cumulative explained variance')\n",
    "plt.title('Cumulative Explained Variance as a Function of the Number of Components')\n",
    "plt.ylabel('Cumulative Explained variance')\n",
    "plt.xlabel('Principal components')\n",
    "plt.axhline(y = 95, color='k', linestyle='--', label = '95% Explained Variance')\n",
    "plt.legend(loc='best')\n"
   ]
  },
  {
   "cell_type": "code",
   "execution_count": 25,
   "metadata": {},
   "outputs": [],
   "source": [
    "pca_reduced=pd.DataFrame(X_train_pca)\n",
    "y=pd.DataFrame()\n",
    "y['target']=y_train\n",
    "n=0\n",
    "m=1\n",
    "o=2"
   ]
  },
  {
   "cell_type": "code",
   "execution_count": 26,
   "metadata": {},
   "outputs": [
    {
     "data": {
      "text/plain": [
       "<matplotlib.legend.Legend at 0x1d14a03a9e8>"
      ]
     },
     "execution_count": 26,
     "metadata": {},
     "output_type": "execute_result"
    },
    {
     "data": {
      "image/png": "[encoded data removed]",
      "text/plain": [
       "<Figure size 576x576 with 1 Axes>"
      ]
     },
     "metadata": {
      "needs_background": "light"
     },
     "output_type": "display_data"
    }
   ],
   "source": [
    "principalDf = pd.DataFrame(data = pca_reduced , columns = [n, m])#,'PC3'])\n",
    "y_train_df = pd.DataFrame(data = y , columns = ['target'])\n",
    "\n",
    "\n",
    "finalDf = pd.concat([principalDf, y_train_df[['target']]], axis = 1)\n",
    "fig = plt.figure(figsize = (8,8))\n",
    "ax = fig.add_subplot(111)#, projection='3d')\n",
    "ax.set_xlabel('1', fontsize = 15)\n",
    "ax.set_ylabel('2', fontsize = 15)\n",
    "#ax.set_zlabel('PC3', fontsize = 15)\n",
    "ax.set_title('2 component', fontsize = 20)\n",
    "targets = [0,1]\n",
    "colors = ['g','r']\n",
    "for target, color in zip(targets,colors):\n",
    "    indicesToKeep = finalDf['target'] == target\n",
    "    ax.scatter(finalDf.loc[indicesToKeep, n]\n",
    "               , finalDf.loc[indicesToKeep, m]#,finalDf.loc[indicesToKeep, 'PC3']\n",
    "               , c = color\n",
    "               , s = 50)\n",
    "    \n",
    "    \n",
    "ax.legend(targets)"
   ]
  },
  {
   "cell_type": "code",
   "execution_count": 1,
   "metadata": {},
   "outputs": [],
   "source": [
    "%store -r X_train\n",
    "%store -r X_test\n",
    "%store -r y_train\n",
    "%store -r y_test"
   ]
  },
  {
   "cell_type": "code",
   "execution_count": 2,
   "metadata": {},
   "outputs": [
    {
     "name": "stdout",
     "output_type": "stream",
     "text": [
      "WARNING:tensorflow:From C:\\Users\\Udith\\anaconda_\\envs\\opencv\\lib\\site-packages\\tensorflow\\python\\ops\\resource_variable_ops.py:435: colocate_with (from tensorflow.python.framework.ops) is deprecated and will be removed in a future version.\n",
      "Instructions for updating:\n",
      "Colocations handled automatically by placer.\n"
     ]
    },
    {
     "name": "stderr",
     "output_type": "stream",
     "text": [
      "Using TensorFlow backend.\n"
     ]
    }
   ],
   "source": [
    "import tensorflow as tf\n",
    "import keras\n",
    "from tensorflow.keras.models import Sequential,Model\n",
    "from tensorflow.keras.layers import Dense,LeakyReLU,InputLayer,Input\n",
    "from tensorflow.keras.optimizers import RMSprop,SGD,Adam\n",
    "from tensorflow.keras.regularizers import l2,l1\n",
    "\n",
    "#n_features=20 #if pca used\n",
    "n_features=X_train.shape[1]\n",
    "\n",
    "model1=Sequential([\n",
    "                  Dense(128,activation='relu',input_shape=(n_features,)),\n",
    "                  Dense(256,activation='relu',kernel_regularizer=l2(0.2)),\n",
    "                  Dense(1,activation='sigmoid')\n",
    "\n",
    "])\n",
    "\n",
    "model2=Sequential([\n",
    "                  Dense(256,activation='relu',input_shape=(n_features,)),\n",
    "                  Dense(1024,activation='relu'),\n",
    "                  Dense(512,activation='relu'),\n",
    "                  Dense(64,activation='relu'),\n",
    "                  Dense(512,activation='relu'),\n",
    "                  Dense(1024,activation='relu'),\n",
    "                  Dense(256,activation='relu'),\n",
    "                  Dense(10,activation='relu'),\n",
    "\n",
    "                  Dense(1,activation='sigmoid')\n",
    "\n",
    "])\n",
    "\n",
    "\n",
    "model1.compile(optimizer=Adam(lr=0.01), loss='binary_crossentropy', metrics = ['acc'])\n",
    "model2.compile(optimizer=SGD(lr=0.01), loss='binary_crossentropy', metrics = ['acc'])"
   ]
  },
  {
   "cell_type": "code",
   "execution_count": 4,
   "metadata": {},
   "outputs": [
    {
     "name": "stdout",
     "output_type": "stream",
     "text": [
      "Train on 16800 samples, validate on 7200 samples\n",
      "Epoch 1/20\n",
      " - 1s - loss: 7.5557 - acc: 0.6468 - val_loss: 3.8873 - val_acc: 0.7776\n",
      "Epoch 2/20\n",
      " - 1s - loss: 3.6238 - acc: 0.7773 - val_loss: 3.4424 - val_acc: 0.7776\n",
      "Epoch 3/20\n",
      " - 1s - loss: 9.2561 - acc: 0.4913 - val_loss: 4.1379 - val_acc: 0.7776\n",
      "Epoch 4/20\n",
      " - 1s - loss: 7.4619 - acc: 0.7779 - val_loss: 4.7635 - val_acc: 0.7776\n",
      "Epoch 5/20\n",
      " - 1s - loss: 4.0851 - acc: 0.7780 - val_loss: 3.6964 - val_acc: 0.7776\n",
      "Epoch 6/20\n",
      " - 1s - loss: 4.4246 - acc: 0.7368 - val_loss: 6.6137 - val_acc: 0.7776\n",
      "Epoch 7/20\n",
      " - 1s - loss: 4.0331 - acc: 0.7780 - val_loss: 3.5333 - val_acc: 0.7776\n",
      "Epoch 8/20\n",
      " - 1s - loss: 3.4788 - acc: 0.7780 - val_loss: 3.4480 - val_acc: 0.7776\n",
      "Epoch 9/20\n",
      " - 1s - loss: 5.0851 - acc: 0.7777 - val_loss: 3.6794 - val_acc: 0.7776\n",
      "Epoch 10/20\n",
      " - 1s - loss: 3.5126 - acc: 0.7780 - val_loss: 3.4449 - val_acc: 0.7776\n",
      "Epoch 11/20\n",
      " - 1s - loss: 7.8262 - acc: 0.7775 - val_loss: 8.2683 - val_acc: 0.7776\n",
      "Epoch 12/20\n",
      " - 1s - loss: 5.1095 - acc: 0.7780 - val_loss: 3.8684 - val_acc: 0.7776\n",
      "Epoch 13/20\n",
      " - 1s - loss: 3.6575 - acc: 0.7782 - val_loss: 3.6711 - val_acc: 0.7776\n",
      "Epoch 14/20\n",
      " - 1s - loss: 3.5956 - acc: 0.7773 - val_loss: 3.5788 - val_acc: 0.7776\n",
      "Epoch 15/20\n",
      " - 1s - loss: 3.4673 - acc: 0.7780 - val_loss: 3.4420 - val_acc: 0.7776\n",
      "Epoch 16/20\n",
      " - 1s - loss: 4.4940 - acc: 0.7781 - val_loss: 3.4905 - val_acc: 0.7776\n",
      "Epoch 17/20\n",
      " - 1s - loss: 24.3049 - acc: 0.5021 - val_loss: 25.8510 - val_acc: 0.7776\n",
      "Epoch 18/20\n",
      " - 1s - loss: 17.0448 - acc: 0.7780 - val_loss: 11.6463 - val_acc: 0.7776\n",
      "Epoch 19/20\n",
      " - 1s - loss: 9.1013 - acc: 0.7780 - val_loss: 7.2008 - val_acc: 0.7776\n",
      "Epoch 20/20\n",
      " - 1s - loss: 6.0980 - acc: 0.7780 - val_loss: 5.2359 - val_acc: 0.7776\n"
     ]
    }
   ],
   "source": [
    "history = model1.fit(X_train,y_train, epochs=20,verbose=2,validation_data=(X_test,y_test),batch_size=30,shuffle=True)"
   ]
  },
  {
   "cell_type": "code",
   "execution_count": null,
   "metadata": {},
   "outputs": [],
   "source": [
    "import matplotlib.pyplot as plt\n",
    "\n",
    "acc = history.history['acc']\n",
    "val_acc = history.history['val_acc']\n",
    "loss = history.history['loss']\n",
    "val_loss = history.history['val_loss']\n",
    "\n",
    "epochs = range(len(acc))\n",
    "\n",
    "plt.plot(epochs, acc, 'r', label='Training accuracy')\n",
    "plt.plot(epochs, val_acc, 'b', label='Validation accuracy')\n",
    "plt.title('Training and validation accuracy')\n",
    "plt.legend(loc=0)\n",
    "plt.figure()\n",
    "\n",
    "\n",
    "plt.show()"
   ]
  },
  {
   "cell_type": "code",
   "execution_count": null,
   "metadata": {},
   "outputs": [],
   "source": []
  }
 ],
 "metadata": {
  "kernelspec": {
   "display_name": "Python 3",
   "language": "python",
   "name": "python3"
  },
  "language_info": {
   "codemirror_mode": {
    "name": "ipython",
    "version": 3
   },
   "file_extension": ".py",
   "mimetype": "text/x-python",
   "name": "python",
   "nbconvert_exporter": "python",
   "pygments_lexer": "ipython3",
   "version": "3.6.5"
  }
 },
 "nbformat": 4,
 "nbformat_minor": 4
}
