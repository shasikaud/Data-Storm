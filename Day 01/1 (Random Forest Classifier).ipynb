{
 "cells": [
  {
   "cell_type": "markdown",
   "metadata": {},
   "source": [
    "### Importing Relevant Libraries and Data"
   ]
  },
  {
   "cell_type": "code",
   "execution_count": 14,
   "metadata": {},
   "outputs": [],
   "source": [
    "import numpy as np\n",
    "import pandas as pd\n",
    "import matplotlib.pyplot as plt\n",
    "import seaborn as sns\n",
    "%matplotlib inline\n",
    "\n",
    "from sklearn.model_selection import train_test_split, GridSearchCV\n",
    "from sklearn.preprocessing import LabelEncoder\n",
    "from sklearn.ensemble import RandomForestClassifier\n",
    "from sklearn.metrics import classification_report, confusion_matrix"
   ]
  },
  {
   "cell_type": "code",
   "execution_count": 2,
   "metadata": {},
   "outputs": [],
   "source": [
    "train_data = pd.read_csv('credit_card_default_train.csv')\n",
    "test_data = pd.read_csv('credit_card_default_test.csv')"
   ]
  },
  {
   "cell_type": "code",
   "execution_count": 3,
   "metadata": {},
   "outputs": [],
   "source": [
    "cat_cols = ['Gender','EDUCATION_STATUS','MARITAL_STATUS','AGE','PAY_JULY','PAY_AUG','PAY_SEP','PAY_OCT','PAY_NOV','PAY_DEC']\n",
    "target = 'NEXT_MONTH_DEFAULT'\n",
    "ID = 'Client_ID'\n",
    "num_cols = [col for col in train_data.columns.tolist() if col not in cat_cols +[target]+[ID]]"
   ]
  },
  {
   "cell_type": "markdown",
   "metadata": {},
   "source": [
    "### Feature Engineering"
   ]
  },
  {
   "cell_type": "code",
   "execution_count": 4,
   "metadata": {},
   "outputs": [],
   "source": [
    "train_data['PAY_TOT'] = train_data['PAY_JULY'] + train_data['PAY_AUG'] + train_data['PAY_SEP'] + train_data['PAY_OCT'] + train_data['PAY_NOV'] + train_data['PAY_DEC']\n",
    "test_data['PAY_TOT'] = test_data['PAY_JULY'] + test_data['PAY_AUG'] + test_data['PAY_SEP'] + test_data['PAY_OCT'] + test_data['PAY_NOV'] + test_data['PAY_DEC']"
   ]
  },
  {
   "cell_type": "code",
   "execution_count": 5,
   "metadata": {},
   "outputs": [],
   "source": [
    "def isZero(row):\n",
    "    if row['PAY_TOT'] == 0:\n",
    "        val = 1\n",
    "    else:\n",
    "        val = 0\n",
    "    return val"
   ]
  },
  {
   "cell_type": "code",
   "execution_count": 6,
   "metadata": {},
   "outputs": [],
   "source": [
    "train_data['PAY_TOT_0'] = train_data.apply(isZero, axis=1)\n",
    "test_data['PAY_TOT_0'] = test_data.apply(isZero, axis=1)"
   ]
  },
  {
   "cell_type": "code",
   "execution_count": 7,
   "metadata": {},
   "outputs": [],
   "source": [
    "LabelEncoder = LabelEncoder()\n",
    "train_data['Balance_Limit_V1_cat'] = LabelEncoder.fit_transform(train_data['Balance_Limit_V1'])\n",
    "train_data['Gender_cat'] = LabelEncoder.fit_transform(train_data['Gender'])\n",
    "train_data['EDUCATION_STATUS_cat'] = LabelEncoder.fit_transform(train_data['EDUCATION_STATUS'])\n",
    "train_data['MARITAL_STATUS_cat'] = LabelEncoder.fit_transform(train_data['MARITAL_STATUS'])\n",
    "train_data['AGE_cat'] = LabelEncoder.fit_transform(train_data['AGE'])\n",
    "\n",
    "test_data['Balance_Limit_V1_cat'] = LabelEncoder.fit_transform(test_data['Balance_Limit_V1'])\n",
    "test_data['Gender_cat'] = LabelEncoder.fit_transform(test_data['Gender'])\n",
    "test_data['EDUCATION_STATUS_cat'] = LabelEncoder.fit_transform(test_data['EDUCATION_STATUS'])\n",
    "test_data['MARITAL_STATUS_cat'] = LabelEncoder.fit_transform(test_data['MARITAL_STATUS'])\n",
    "test_data['AGE_cat'] = LabelEncoder.fit_transform(test_data['AGE'])"
   ]
  },
  {
   "cell_type": "markdown",
   "metadata": {},
   "source": [
    "### Model Selection and Evaluation"
   ]
  },
  {
   "cell_type": "code",
   "execution_count": 12,
   "metadata": {},
   "outputs": [],
   "source": [
    "X_train, X_test, y_train, y_test = train_test_split(train_data.drop([target,ID,'Balance_Limit_V1','Gender','EDUCATION_STATUS','MARITAL_STATUS','AGE'],axis=1), \n",
    "                                                    train_data[target], test_size=0.30)"
   ]
  },
  {
   "cell_type": "code",
   "execution_count": 17,
   "metadata": {},
   "outputs": [
    {
     "name": "stdout",
     "output_type": "stream",
     "text": [
      "Fitting 3 folds for each of 8 candidates, totalling 24 fits\n",
      "[CV] criterion=gini, max_features=log2, n_estimators=200 .............\n"
     ]
    },
    {
     "name": "stderr",
     "output_type": "stream",
     "text": [
      "[Parallel(n_jobs=1)]: Using backend SequentialBackend with 1 concurrent workers.\n"
     ]
    },
    {
     "name": "stdout",
     "output_type": "stream",
     "text": [
      "[CV]  criterion=gini, max_features=log2, n_estimators=200, score=0.805, total=   7.4s\n",
      "[CV] criterion=gini, max_features=log2, n_estimators=200 .............\n"
     ]
    },
    {
     "name": "stderr",
     "output_type": "stream",
     "text": [
      "[Parallel(n_jobs=1)]: Done   1 out of   1 | elapsed:    7.3s remaining:    0.0s\n"
     ]
    },
    {
     "name": "stdout",
     "output_type": "stream",
     "text": [
      "[CV]  criterion=gini, max_features=log2, n_estimators=200, score=0.815, total=   7.3s\n",
      "[CV] criterion=gini, max_features=log2, n_estimators=200 .............\n"
     ]
    },
    {
     "name": "stderr",
     "output_type": "stream",
     "text": [
      "[Parallel(n_jobs=1)]: Done   2 out of   2 | elapsed:   14.7s remaining:    0.0s\n"
     ]
    },
    {
     "name": "stdout",
     "output_type": "stream",
     "text": [
      "[CV]  criterion=gini, max_features=log2, n_estimators=200, score=0.820, total=   7.4s\n",
      "[CV] criterion=gini, max_features=log2, n_estimators=400 .............\n",
      "[CV]  criterion=gini, max_features=log2, n_estimators=400, score=0.803, total=  14.5s\n",
      "[CV] criterion=gini, max_features=log2, n_estimators=400 .............\n",
      "[CV]  criterion=gini, max_features=log2, n_estimators=400, score=0.818, total=  14.5s\n",
      "[CV] criterion=gini, max_features=log2, n_estimators=400 .............\n",
      "[CV]  criterion=gini, max_features=log2, n_estimators=400, score=0.819, total=  14.5s\n",
      "[CV] criterion=gini, max_features=auto, n_estimators=200 .............\n",
      "[CV]  criterion=gini, max_features=auto, n_estimators=200, score=0.805, total=   8.8s\n",
      "[CV] criterion=gini, max_features=auto, n_estimators=200 .............\n",
      "[CV]  criterion=gini, max_features=auto, n_estimators=200, score=0.817, total=   8.9s\n",
      "[CV] criterion=gini, max_features=auto, n_estimators=200 .............\n",
      "[CV]  criterion=gini, max_features=auto, n_estimators=200, score=0.821, total=   8.8s\n",
      "[CV] criterion=gini, max_features=auto, n_estimators=400 .............\n",
      "[CV]  criterion=gini, max_features=auto, n_estimators=400, score=0.805, total=  17.4s\n",
      "[CV] criterion=gini, max_features=auto, n_estimators=400 .............\n",
      "[CV]  criterion=gini, max_features=auto, n_estimators=400, score=0.816, total=  18.0s\n",
      "[CV] criterion=gini, max_features=auto, n_estimators=400 .............\n",
      "[CV]  criterion=gini, max_features=auto, n_estimators=400, score=0.818, total=  17.5s\n",
      "[CV] criterion=entropy, max_features=log2, n_estimators=200 ..........\n",
      "[CV]  criterion=entropy, max_features=log2, n_estimators=200, score=0.804, total=  10.0s\n",
      "[CV] criterion=entropy, max_features=log2, n_estimators=200 ..........\n",
      "[CV]  criterion=entropy, max_features=log2, n_estimators=200, score=0.816, total=  10.0s\n",
      "[CV] criterion=entropy, max_features=log2, n_estimators=200 ..........\n",
      "[CV]  criterion=entropy, max_features=log2, n_estimators=200, score=0.821, total=  10.2s\n",
      "[CV] criterion=entropy, max_features=log2, n_estimators=400 ..........\n",
      "[CV]  criterion=entropy, max_features=log2, n_estimators=400, score=0.804, total=  20.8s\n",
      "[CV] criterion=entropy, max_features=log2, n_estimators=400 ..........\n",
      "[CV]  criterion=entropy, max_features=log2, n_estimators=400, score=0.818, total=  20.8s\n",
      "[CV] criterion=entropy, max_features=log2, n_estimators=400 ..........\n",
      "[CV]  criterion=entropy, max_features=log2, n_estimators=400, score=0.820, total=  21.0s\n",
      "[CV] criterion=entropy, max_features=auto, n_estimators=200 ..........\n",
      "[CV]  criterion=entropy, max_features=auto, n_estimators=200, score=0.803, total=  12.5s\n",
      "[CV] criterion=entropy, max_features=auto, n_estimators=200 ..........\n",
      "[CV]  criterion=entropy, max_features=auto, n_estimators=200, score=0.818, total=  12.0s\n",
      "[CV] criterion=entropy, max_features=auto, n_estimators=200 ..........\n",
      "[CV]  criterion=entropy, max_features=auto, n_estimators=200, score=0.820, total=  11.9s\n",
      "[CV] criterion=entropy, max_features=auto, n_estimators=400 ..........\n",
      "[CV]  criterion=entropy, max_features=auto, n_estimators=400, score=0.805, total=  24.2s\n",
      "[CV] criterion=entropy, max_features=auto, n_estimators=400 ..........\n",
      "[CV]  criterion=entropy, max_features=auto, n_estimators=400, score=0.817, total=  24.4s\n",
      "[CV] criterion=entropy, max_features=auto, n_estimators=400 ..........\n",
      "[CV]  criterion=entropy, max_features=auto, n_estimators=400, score=0.821, total=  24.3s\n"
     ]
    },
    {
     "name": "stderr",
     "output_type": "stream",
     "text": [
      "[Parallel(n_jobs=1)]: Done  24 out of  24 | elapsed:  5.8min finished\n"
     ]
    },
    {
     "data": {
      "text/plain": [
       "GridSearchCV(cv=3, error_score=nan,\n",
       "             estimator=RandomForestClassifier(bootstrap=True, ccp_alpha=0.0,\n",
       "                                              class_weight=None,\n",
       "                                              criterion='gini', max_depth=None,\n",
       "                                              max_features='auto',\n",
       "                                              max_leaf_nodes=None,\n",
       "                                              max_samples=None,\n",
       "                                              min_impurity_decrease=0.0,\n",
       "                                              min_impurity_split=None,\n",
       "                                              min_samples_leaf=1,\n",
       "                                              min_samples_split=2,\n",
       "                                              min_weight_fraction_leaf=0.0,\n",
       "                                              n_estimators=100, n_jobs=None,\n",
       "                                              oob_score=False,\n",
       "                                              random_state=None, verbose=0,\n",
       "                                              warm_start=False),\n",
       "             iid='deprecated', n_jobs=None,\n",
       "             param_grid={'criterion': ['gini', 'entropy'],\n",
       "                         'max_features': ['log2', 'auto'],\n",
       "                         'n_estimators': [200, 400]},\n",
       "             pre_dispatch='2*n_jobs', refit=True, return_train_score=False,\n",
       "             scoring=None, verbose=3)"
      ]
     },
     "execution_count": 17,
     "metadata": {},
     "output_type": "execute_result"
    }
   ],
   "source": [
    "X = train_data.drop([target,ID,'Balance_Limit_V1','Gender','EDUCATION_STATUS','MARITAL_STATUS','AGE'],axis=1)\n",
    "y = train_data[target]\n",
    "                    \n",
    "random_grid = {'n_estimators': [200,400],\n",
    "               'max_features': ['log2','auto'],\n",
    "               'criterion': ['gini','entropy']}\n",
    "\n",
    "grid = GridSearchCV(RandomForestClassifier(),random_grid,refit=True,verbose=3,cv=3)\n",
    "grid.fit(X,y)"
   ]
  },
  {
   "cell_type": "code",
   "execution_count": 18,
   "metadata": {},
   "outputs": [
    {
     "data": {
      "text/plain": [
       "{'criterion': 'entropy', 'max_features': 'auto', 'n_estimators': 400}"
      ]
     },
     "execution_count": 18,
     "metadata": {},
     "output_type": "execute_result"
    }
   ],
   "source": [
    "grid.best_params_"
   ]
  },
  {
   "cell_type": "code",
   "execution_count": 19,
   "metadata": {},
   "outputs": [
    {
     "data": {
      "text/plain": [
       "RandomForestClassifier(bootstrap=True, ccp_alpha=0.0, class_weight=None,\n",
       "                       criterion='entropy', max_depth=None, max_features='auto',\n",
       "                       max_leaf_nodes=None, max_samples=None,\n",
       "                       min_impurity_decrease=0.0, min_impurity_split=None,\n",
       "                       min_samples_leaf=1, min_samples_split=2,\n",
       "                       min_weight_fraction_leaf=0.0, n_estimators=400,\n",
       "                       n_jobs=None, oob_score=False, random_state=None,\n",
       "                       verbose=0, warm_start=False)"
      ]
     },
     "execution_count": 19,
     "metadata": {},
     "output_type": "execute_result"
    }
   ],
   "source": [
    "model_rf = RandomForestClassifier(n_estimators=400,criterion='entropy')\n",
    "model_rf.fit(X_train,y_train)"
   ]
  },
  {
   "cell_type": "code",
   "execution_count": 20,
   "metadata": {
    "scrolled": true
   },
   "outputs": [
    {
     "name": "stdout",
     "output_type": "stream",
     "text": [
      "              precision    recall  f1-score   support\n",
      "\n",
      "           0       0.84      0.94      0.89      5589\n",
      "           1       0.64      0.37      0.47      1611\n",
      "\n",
      "    accuracy                           0.81      7200\n",
      "   macro avg       0.74      0.65      0.68      7200\n",
      "weighted avg       0.79      0.81      0.79      7200\n",
      "\n",
      "\n",
      "\n",
      "[[5258  331]\n",
      " [1022  589]]\n"
     ]
    }
   ],
   "source": [
    "preds_rf = model_rf.predict(X_test)\n",
    "\n",
    "print(classification_report(y_test,preds_rf))\n",
    "print ('\\n')\n",
    "print(confusion_matrix(y_test,preds_rf))"
   ]
  },
  {
   "cell_type": "markdown",
   "metadata": {},
   "source": [
    "### Implementation of the model in test data"
   ]
  },
  {
   "cell_type": "code",
   "execution_count": 21,
   "metadata": {},
   "outputs": [
    {
     "data": {
      "text/plain": [
       "RandomForestClassifier(bootstrap=True, ccp_alpha=0.0, class_weight=None,\n",
       "                       criterion='gini', max_depth=None, max_features='auto',\n",
       "                       max_leaf_nodes=None, max_samples=None,\n",
       "                       min_impurity_decrease=0.0, min_impurity_split=None,\n",
       "                       min_samples_leaf=1, min_samples_split=2,\n",
       "                       min_weight_fraction_leaf=0.0, n_estimators=400,\n",
       "                       n_jobs=None, oob_score=False, random_state=None,\n",
       "                       verbose=0, warm_start=False)"
      ]
     },
     "execution_count": 21,
     "metadata": {},
     "output_type": "execute_result"
    }
   ],
   "source": [
    "model_rf = RandomForestClassifier(n_estimators=400,criterion='gini')\n",
    "model_rf.fit(train_data.drop([target,ID,'Balance_Limit_V1','Gender','EDUCATION_STATUS','MARITAL_STATUS','AGE'],axis=1),train_data[target])"
   ]
  },
  {
   "cell_type": "code",
   "execution_count": 22,
   "metadata": {},
   "outputs": [],
   "source": [
    "preds_rf = model_rf.predict(test_data.drop([ID,'Balance_Limit_V1','Gender','EDUCATION_STATUS','MARITAL_STATUS','AGE'],axis=1))"
   ]
  },
  {
   "cell_type": "code",
   "execution_count": 23,
   "metadata": {},
   "outputs": [],
   "source": [
    "sample_submission = pd.DataFrame(columns=[ID,target])\n",
    "sample_submission[ID]=test_data[ID]\n",
    "sample_submission[target] = preds_rf"
   ]
  },
  {
   "cell_type": "code",
   "execution_count": 25,
   "metadata": {},
   "outputs": [],
   "source": [
    "submission = sample_submission.to_csv('data-storm-day1-1 check2.csv',index = None)"
   ]
  }
 ],
 "metadata": {
  "kernelspec": {
   "display_name": "mypython",
   "language": "python",
   "name": "mypython"
  },
  "language_info": {
   "codemirror_mode": {
    "name": "ipython",
    "version": 3
   },
   "file_extension": ".py",
   "mimetype": "text/x-python",
   "name": "python",
   "nbconvert_exporter": "python",
   "pygments_lexer": "ipython3",
   "version": "3.6.9"
  }
 },
 "nbformat": 4,
 "nbformat_minor": 2
}
