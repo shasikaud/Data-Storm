{
 "cells": [
  {
   "cell_type": "code",
   "execution_count": 8,
   "metadata": {},
   "outputs": [],
   "source": [
    "\n",
    "import numpy as np\n",
    "import matplotlib.pyplot as plt\n",
    "import pandas as pd\n",
    "# Importing the dataset\n",
    "from time import gmtime, strftime\n",
    "import gc\n",
    "from sklearn.model_selection import (train_test_split, GridSearchCV)\n",
    "from sklearn.preprocessing import LabelEncoder\n",
    "import lightgbm as lgb\n",
    "from tqdm import tqdm\n",
    "from sklearn.metrics import (roc_curve, auc, accuracy_score)\n",
    "from sklearn.preprocessing import StandardScaler\n",
    "from sklearn.preprocessing import StandardScaler,MinMaxScaler\n",
    "\n",
    "\n"
   ]
  },
  {
   "cell_type": "code",
   "execution_count": 9,
   "metadata": {},
   "outputs": [],
   "source": [
    "#new features are generated \n",
    "\n",
    "train_data = pd.read_csv('E:/ML_IP/ML_projects/datastorm/credit_card_default_train.csv')\n",
    "predict_data = pd.read_csv('E:/ML_IP/ML_projects/datastorm/credit_card_default_test.csv')\n",
    "\n",
    "#new engineered features\n",
    "train_data['PAY_JULY_GREAT2']=train_data['PAY_JULY']>1.5 #APPLY ONE-HOT\n",
    "train_data['PAY_AUG_GREAT1']=train_data['PAY_AUG']>1 #APPLY ONE-HOT\n",
    "train_data['PAY_SEP_GREAT1']=train_data['PAY_SEP']>1 #APPLY ONE-HOT\n",
    "train_data['PAY_OCT_GREAT1']=train_data['PAY_OCT']>1 #APPLY ONE-HOT\n",
    "train_data['PAY_NOV_GREAT1']=train_data['PAY_NOV']>1 #APPLY ONE-HOT\n",
    "train_data['PAY_DEC_GREAT1']=train_data['PAY_DEC']>1 #APPLY ONE-HOT\n",
    "train_data['TOT']=train_data['PAY_JULY']+train_data['PAY_AUG']+train_data['PAY_SEP']+train_data['PAY_OCT']+train_data['PAY_NOV']+train_data['PAY_DEC']\n",
    "\n",
    "\n",
    "predict_data['PAY_JULY_GREAT2']=predict_data['PAY_JULY']>1.5 #APPLY ONE-HOT\n",
    "predict_data['PAY_AUG_GREAT1']=predict_data['PAY_AUG']>1 #APPLY ONE-HOT\n",
    "predict_data['PAY_SEP_GREAT1']=predict_data['PAY_SEP']>1 #APPLY ONE-HOT\n",
    "predict_data['PAY_OCT_GREAT1']=predict_data['PAY_OCT']>1 #APPLY ONE-HOT\n",
    "predict_data['PAY_NOV_GREAT1']=predict_data['PAY_NOV']>1 #APPLY ONE-HOT\n",
    "predict_data['PAY_DEC_GREAT1']=predict_data['PAY_DEC']>1 #APPLY ONE-HOT\n",
    "predict_data['TOT']=predict_data['PAY_JULY']+predict_data['PAY_AUG']+predict_data['PAY_SEP']+predict_data['PAY_OCT']+predict_data['PAY_NOV']+predict_data['PAY_DEC']\n",
    "\n",
    "\n",
    "cat_cols=['Gender', 'EDUCATION_STATUS',\n",
    "       'MARITAL_STATUS', 'AGE', 'PAY_JULY_GREAT2',\n",
    "       'PAY_AUG_GREAT1', 'PAY_SEP_GREAT1', 'PAY_OCT_GREAT1', 'PAY_NOV_GREAT1',\n",
    "       'PAY_DEC_GREAT1']\n",
    "train_data = pd.get_dummies( train_data,columns = cat_cols )\n",
    "predict_data = pd.get_dummies( predict_data,columns = cat_cols )\n",
    "\n"
   ]
  },
  {
   "cell_type": "code",
   "execution_count": 15,
   "metadata": {},
   "outputs": [],
   "source": [
    "t1=train_data.drop(['Client_ID', 'Balance_Limit_V1', 'PAY_AUG', 'PAY_SEP',\n",
    "       'PAY_OCT', 'PAY_NOV', 'PAY_DEC', \n",
    "         'Gender_F',\n",
    "       'Gender_M', 'EDUCATION_STATUS_Graduate', 'EDUCATION_STATUS_High School',\n",
    "       'EDUCATION_STATUS_Other', 'MARITAL_STATUS_Other',\n",
    "       'MARITAL_STATUS_Single', 'AGE_31-45', 'AGE_46-65', 'AGE_Less than 30',\n",
    "       'AGE_More than 65', 'PAY_SEP_GREAT1_False',\n",
    "       'PAY_SEP_GREAT1_True', 'PAY_OCT_GREAT1_False', 'PAY_OCT_GREAT1_True',\n",
    "       'PAY_NOV_GREAT1_False', 'PAY_NOV_GREAT1_True', 'PAY_DEC_GREAT1_False',\n",
    "       'PAY_DEC_GREAT1_True'],axis=1)\n",
    "\n",
    "\n",
    "t2=predict_data.drop(['Client_ID', 'Balance_Limit_V1', 'PAY_AUG', 'PAY_SEP',\n",
    "       'PAY_OCT', 'PAY_NOV', 'PAY_DEC', \n",
    "         'Gender_F',\n",
    "       'Gender_M', 'EDUCATION_STATUS_Graduate', 'EDUCATION_STATUS_High School',\n",
    "       'EDUCATION_STATUS_Other', 'MARITAL_STATUS_Other',\n",
    "       'MARITAL_STATUS_Single', 'AGE_31-45', 'AGE_46-65', 'AGE_Less than 30',\n",
    "       'AGE_More than 65', 'PAY_SEP_GREAT1_False',\n",
    "       'PAY_SEP_GREAT1_True', 'PAY_OCT_GREAT1_False', 'PAY_OCT_GREAT1_True',\n",
    "       'PAY_NOV_GREAT1_False', 'PAY_NOV_GREAT1_True', 'PAY_DEC_GREAT1_False',\n",
    "       'PAY_DEC_GREAT1_True'],axis=1)"
   ]
  },
  {
   "cell_type": "code",
   "execution_count": 16,
   "metadata": {},
   "outputs": [],
   "source": [
    "X_train_ud, X, y_train_ud, y = train_test_split(t1.drop('NEXT_MONTH_DEFAULT',axis=1),t1['NEXT_MONTH_DEFAULT'],test_size = 0.3,shuffle=True)\n",
    "X_val_ud, X_test_ud, y_val_ud, y_test_ud = train_test_split(X,y,test_size = 0.5,shuffle=False) \n",
    "\n",
    "X_predict_ud=t2"
   ]
  },
  {
   "cell_type": "code",
   "execution_count": 17,
   "metadata": {},
   "outputs": [
    {
     "data": {
      "text/plain": [
       "<matplotlib.axes._subplots.AxesSubplot at 0x20c09d107f0>"
      ]
     },
     "execution_count": 17,
     "metadata": {},
     "output_type": "execute_result"
    },
    {
     "data": {
      "image/png": "[encoded data removed]",
      "text/plain": [
       "<Figure size 432x288 with 1 Axes>"
      ]
     },
     "metadata": {
      "needs_background": "light"
     },
     "output_type": "display_data"
    }
   ],
   "source": [
    "y_test_ud.value_counts().plot(kind='bar', title='Count (target)')\n"
   ]
  },
  {
   "cell_type": "code",
   "execution_count": 19,
   "metadata": {},
   "outputs": [],
   "source": [
    "from imblearn.over_sampling import RandomOverSampler\n",
    "ros=RandomOverSampler(random_state=0)\n",
    "#X_train_ud,y_train_ud=ros.fit_resample(X_train_ud,y_train_ud)\n",
    "#X_val_ud,y_val_ud=ros.fit_resample(X_val_ud,y_val_ud)\n",
    "#X_test_ud,y_test_ud=ros.fit_resample(X_test_ud,y_test_ud)\n",
    "\n",
    "std_scale = MinMaxScaler().fit(X_train_ud)\n",
    "X_train_ud = pd.DataFrame(std_scale.transform(X_train_ud))\n",
    "X_test_ud  = pd.DataFrame(std_scale.transform(X_test_ud))\n",
    "X_val_ud  = pd.DataFrame(std_scale.transform(X_val_ud))\n",
    "X_predict_ud  = pd.DataFrame(std_scale.transform(X_predict_ud))\n",
    "#X_predict  = pd.DataFrame(std_scale.transform(predict_data))"
   ]
  },
  {
   "cell_type": "code",
   "execution_count": 22,
   "metadata": {},
   "outputs": [],
   "source": [
    "\n",
    "x_train=X_train_ud\n",
    "x_test=X_test_ud\n",
    "y_train=y_train_ud\n",
    "y_test=y_test_ud"
   ]
  },
  {
   "cell_type": "code",
   "execution_count": 25,
   "metadata": {},
   "outputs": [
    {
     "name": "stdout",
     "output_type": "stream",
     "text": [
      "              precision    recall  f1-score   support\n",
      "\n",
      "           0       0.84      0.95      0.89      2810\n",
      "           1       0.65      0.35      0.45       790\n",
      "\n",
      "    accuracy                           0.81      3600\n",
      "   macro avg       0.74      0.65      0.67      3600\n",
      "weighted avg       0.80      0.81      0.79      3600\n",
      "\n",
      "\n",
      "\n",
      "[[2660  150]\n",
      " [ 517  273]]\n",
      "prev\n",
      "              precision    recall  f1-score   support\n",
      "\n",
      "           0       0.84      0.94      0.89      2810\n",
      "           1       0.62      0.37      0.46       790\n",
      "\n",
      "    accuracy                           0.81      3600\n",
      "   macro avg       0.73      0.65      0.68      3600\n",
      "weighted avg       0.79      0.81      0.79      3600\n",
      "\n",
      "\n",
      "\n",
      "[[2631  179]\n",
      " [ 497  293]]\n",
      "              precision    recall  f1-score   support\n",
      "\n",
      "           0       0.84      0.94      0.89      2791\n",
      "           1       0.66      0.37      0.48       809\n",
      "\n",
      "    accuracy                           0.82      3600\n",
      "   macro avg       0.75      0.66      0.68      3600\n",
      "weighted avg       0.80      0.82      0.80      3600\n",
      "\n"
     ]
    }
   ],
   "source": [
    "d_train = lgb.Dataset(x_train, label=y_train)\n",
    "params_best = {}\n",
    "params_best['learning_rate'] = 0.1\n",
    "params_best['boosting_type'] = 'dart'\n",
    "params_best['objective'] = 'binary'\n",
    "params_best['metric'] = 'binary_logloss'\n",
    "params_best['sub_feature'] = 0.7\n",
    "params_best['num_leaves'] = 18\n",
    "params_best['min_data'] = 70\n",
    "params_best['max_depth'] = 510\n",
    "params_best['max_bin']=120\n",
    "params_best['n_estimators']=110\n",
    "params_best['colsample_bytree' ]=0\n",
    "\n",
    "params_best = {}\n",
    "params = {}\n",
    "params['learning_rate'] = [0.1]\n",
    "params['boosting_type'] = ['dart']\n",
    "params['objective'] = ['binary']\n",
    "params['metric'] = ['binary_logloss']\n",
    "params['sub_feature'] = [0.7]\n",
    "params['num_leaves'] = [18]\n",
    "params['min_data'] = [70]\n",
    "params['max_depth'] = [510]\n",
    "params['max_bin']=[120]\n",
    "params['n_estimators']=[110]\n",
    "\n",
    "params2={}\n",
    "params2['learning_rate'] = 0.03\n",
    "params2['boosting_type'] = 'rf'\n",
    "params2['objective'] = 'binary'\n",
    "params2['metric'] = 'binary_logloss'\n",
    "params2['bagging_fraction'] = 0.5\n",
    "params2['feature_fraction'] = 0.8\n",
    "params2['bagging_freq'] = 1\n",
    "params2['num_leaves'] = 24\n",
    "params2['min_data'] = 50\n",
    "params2['max_depth'] = 10\n",
    "params2['max_bin']=20\n",
    "\n",
    "clf = lgb.train(params_best, d_train, 100)\n",
    "clf_a = lgb.train(params2, d_train, 100) #prev_max\n",
    "\n",
    "#Prediction\n",
    "test_probs = clf.predict(x_test)\n",
    "test_probs_a = clf_a.predict(x_test)\n",
    "\n",
    "\n",
    "def avoid_prob(preds_lgb):\n",
    "    for i in range(len(preds_lgb)):\n",
    "        if preds_lgb[i]>=0.5:       # setting threshold to .5\n",
    "            preds_lgb[i]=1\n",
    "        else:\n",
    "            preds_lgb[i]=0\n",
    "    return preds_lgb\n",
    "\n",
    "test_preds=avoid_prob(test_probs)\n",
    "\n",
    "from sklearn.metrics import classification_report, confusion_matrix,roc_auc_score,roc_curve\n",
    "\n",
    "print(classification_report(y_test,test_preds))\n",
    "print ('\\n')\n",
    "print(confusion_matrix(y_test,test_preds))\n",
    "#####\n",
    "print('prev')\n",
    "test_probs=test_probs_a\n",
    "test_preds=avoid_prob(test_probs)\n",
    "\n",
    "from sklearn.metrics import classification_report, confusion_matrix,roc_auc_score,roc_curve\n",
    "\n",
    "print(classification_report(y_test,test_preds))\n",
    "print ('\\n')\n",
    "print(confusion_matrix(y_test,test_preds))\n",
    "\n",
    "\n",
    "\n",
    "print(classification_report(y_val_ud,avoid_prob( clf.predict(X_val_ud))))"
   ]
  },
  {
   "cell_type": "code",
   "execution_count": 26,
   "metadata": {},
   "outputs": [
    {
     "data": {
      "text/plain": [
       "dict_keys(['boosting_type', 'class_weight', 'colsample_bytree', 'importance_type', 'learning_rate', 'max_depth', 'min_child_samples', 'min_child_weight', 'min_split_gain', 'n_estimators', 'n_jobs', 'num_leaves', 'objective', 'random_state', 'reg_alpha', 'reg_lambda', 'silent', 'subsample', 'subsample_for_bin', 'subsample_freq'])"
      ]
     },
     "execution_count": 26,
     "metadata": {},
     "output_type": "execute_result"
    }
   ],
   "source": [
    "#use gridsearchcv\n",
    "\n",
    "mdl = lgb.LGBMClassifier(boosting_type= 'gbdt', \n",
    "          objective = 'binary', \n",
    "          n_jobs = 5, \n",
    "          silent = True,\n",
    "          max_depth = 10)\n",
    "\n",
    "# To view the default model parameters:\n",
    "mdl.get_params().keys()"
   ]
  },
  {
   "cell_type": "code",
   "execution_count": 28,
   "metadata": {},
   "outputs": [
    {
     "name": "stdout",
     "output_type": "stream",
     "text": [
      "Fitting 4 folds for each of 1 candidates, totalling 4 fits\n"
     ]
    },
    {
     "name": "stderr",
     "output_type": "stream",
     "text": [
      "[Parallel(n_jobs=-1)]: Using backend LokyBackend with 4 concurrent workers.\n",
      "[Parallel(n_jobs=-1)]: Done   2 out of   4 | elapsed:    3.2s remaining:    3.2s\n",
      "[Parallel(n_jobs=-1)]: Done   4 out of   4 | elapsed:    3.3s finished\n"
     ]
    },
    {
     "name": "stdout",
     "output_type": "stream",
     "text": [
      "{'boosting_type': 'dart', 'learning_rate': 0.1, 'max_bin': 120, 'max_depth': 510, 'metric': 'binary_logloss', 'min_data': 70, 'n_estimators': 110, 'num_leaves': 18, 'objective': 'binary', 'sub_feature': 0.7}\n",
      "0.818154761904762\n"
     ]
    }
   ],
   "source": [
    "\n",
    "gridParams = {\n",
    "    'learning_rate': [0.005, 0.01],\n",
    "    'n_estimators': [8,16,24],\n",
    "    'num_leaves': [6,8,12,16], # large num_leaves helps improve accuracy but might lead to over-fitting\n",
    "    'boosting_type' : ['gbdt', 'dart'], # for better accuracy -> try dart\n",
    "    'objective' : ['binary'],\n",
    "    'max_bin':[255, 510], # large max_bin helps improve accuracy but might slow down training progress\n",
    "    'random_state' : [500],\n",
    "    'colsample_bytree' : [0.64, 0.65, 0.66],\n",
    "    'subsample' : [0.7,0.75],\n",
    "    'reg_alpha' : [1,1.2],\n",
    "    'reg_lambda' : [1,1.2,1.4],\n",
    "    }\n",
    "'''\n",
    "params = {}\n",
    "params['learning_rate'] = [0.003,0.001,0.1]\n",
    "params['boosting_type'] = ['gbdt','dart','rf','goss']\n",
    "params['objective'] = ['binary']\n",
    "params['metric'] = ['binary_logloss']\n",
    "params['sub_feature'] = [0.5,0.2,0.8]\n",
    "params['num_leaves'] = [6,10,14,18,22]\n",
    "params['min_data'] = [30,50,70]\n",
    "params['max_depth'] = [7,10,15,20]\n",
    "'''\n",
    "\n",
    "params = {}\n",
    "params['learning_rate'] = [0.1]\n",
    "params['boosting_type'] = ['dart']\n",
    "params['objective'] = ['binary']\n",
    "params['metric'] = ['binary_logloss']\n",
    "params['sub_feature'] = [0.7]\n",
    "params['num_leaves'] = [18]\n",
    "params['min_data'] = [70]\n",
    "params['max_depth'] = [510]\n",
    "params['max_bin']=[120]\n",
    "params['n_estimators']=[110]\n",
    "\n",
    "\n",
    "grid = GridSearchCV(mdl, params, verbose=1, cv=4, n_jobs=-1)\n",
    "# Run the grid\n",
    "grid.fit(x_train,y_train)\n",
    "\n",
    "# Print the best parameters found\n",
    "print(grid.best_params_)\n",
    "print(grid.best_score_)\n",
    "probs=grid.predict(x_test)"
   ]
  },
  {
   "cell_type": "code",
   "execution_count": 29,
   "metadata": {},
   "outputs": [],
   "source": [
    "params_best = {}\n",
    "params_best['learning_rate'] = 0.1\n",
    "params_best['boosting_type'] = 'dart'\n",
    "params_best['objective'] = 'binary'\n",
    "params_best['metric'] = 'binary_logloss'\n",
    "params_best['sub_feature'] = 0.5\n",
    "params_best['num_leaves'] = 18\n",
    "params_best['min_data'] = 70\n",
    "params_best['max_depth'] = 5\n",
    "params_best['max_bin']=250\n",
    "params_best['n_estimators']=110\n",
    "params_best['colsample_bytree' ]=0\n",
    "params_best['subsample']=0.000001"
   ]
  },
  {
   "cell_type": "code",
   "execution_count": 31,
   "metadata": {},
   "outputs": [
    {
     "name": "stdout",
     "output_type": "stream",
     "text": [
      "Stored 'probs' (ndarray)\n"
     ]
    }
   ],
   "source": [
    "probs=grid.predict(X_predict_ud) #this is used as the submission\n",
    "%store probs"
   ]
  },
  {
   "cell_type": "code",
   "execution_count": null,
   "metadata": {},
   "outputs": [],
   "source": []
  }
 ],
 "metadata": {
  "kernelspec": {
   "display_name": "Python 3",
   "language": "python",
   "name": "python3"
  },
  "language_info": {
   "codemirror_mode": {
    "name": "ipython",
    "version": 3
   },
   "file_extension": ".py",
   "mimetype": "text/x-python",
   "name": "python",
   "nbconvert_exporter": "python",
   "pygments_lexer": "ipython3",
   "version": "3.6.5"
  }
 },
 "nbformat": 4,
 "nbformat_minor": 4
}
