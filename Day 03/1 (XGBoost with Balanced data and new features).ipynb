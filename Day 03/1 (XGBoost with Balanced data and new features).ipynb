{
 "cells": [
  {
   "cell_type": "code",
   "execution_count": 1,
   "metadata": {},
   "outputs": [],
   "source": [
    "%matplotlib inline\n",
    "import pandas as pd\n",
    "import numpy as np\n",
    "import xgboost as xgb\n",
    "from sklearn import preprocessing\n",
    "from sklearn.model_selection import train_test_split\n",
    "import matplotlib.pyplot as plt\n",
    "from sklearn.model_selection import *\n",
    "from sklearn.model_selection import GridSearchCV\n"
   ]
  },
  {
   "cell_type": "code",
   "execution_count": 2,
   "metadata": {},
   "outputs": [],
   "source": [
    "#new features are generated \n",
    "\n",
    "train_data = pd.read_csv('E:/ML_IP/ML_projects/datastorm/credit_card_default_train.csv')\n",
    "predict_data = pd.read_csv('E:/ML_IP/ML_projects/datastorm/credit_card_default_test.csv')\n",
    "\n",
    "#new engineered features\n",
    "train_data['PAY_JULY_GREAT2']=train_data['PAY_JULY']>1.5 #APPLY ONE-HOT\n",
    "train_data['PAY_AUG_GREAT1']=train_data['PAY_AUG']>1 #APPLY ONE-HOT\n",
    "train_data['PAY_SEP_GREAT1']=train_data['PAY_SEP']>1 #APPLY ONE-HOT\n",
    "train_data['PAY_OCT_GREAT1']=train_data['PAY_OCT']>1 #APPLY ONE-HOT\n",
    "train_data['PAY_NOV_GREAT1']=train_data['PAY_NOV']>1 #APPLY ONE-HOT\n",
    "train_data['PAY_DEC_GREAT1']=train_data['PAY_DEC']>1 #APPLY ONE-HOT\n",
    "train_data['TOT']=train_data['PAY_JULY']+train_data['PAY_AUG']+train_data['PAY_SEP']+train_data['PAY_OCT']+train_data['PAY_NOV']+train_data['PAY_DEC']\n",
    "\n",
    "\n",
    "predict_data['PAY_JULY_GREAT2']=predict_data['PAY_JULY']>1.5 #APPLY ONE-HOT\n",
    "predict_data['PAY_AUG_GREAT1']=predict_data['PAY_AUG']>1 #APPLY ONE-HOT\n",
    "predict_data['PAY_SEP_GREAT1']=predict_data['PAY_SEP']>1 #APPLY ONE-HOT\n",
    "predict_data['PAY_OCT_GREAT1']=predict_data['PAY_OCT']>1 #APPLY ONE-HOT\n",
    "predict_data['PAY_NOV_GREAT1']=predict_data['PAY_NOV']>1 #APPLY ONE-HOT\n",
    "predict_data['PAY_DEC_GREAT1']=predict_data['PAY_DEC']>1 #APPLY ONE-HOT\n",
    "predict_data['TOT']=predict_data['PAY_JULY']+predict_data['PAY_AUG']+predict_data['PAY_SEP']+predict_data['PAY_OCT']+predict_data['PAY_NOV']+predict_data['PAY_DEC']\n",
    "\n",
    "\n",
    "cat_cols=['Gender', 'EDUCATION_STATUS',\n",
    "       'MARITAL_STATUS', 'AGE', 'PAY_JULY_GREAT2',\n",
    "       'PAY_AUG_GREAT1', 'PAY_SEP_GREAT1', 'PAY_OCT_GREAT1', 'PAY_NOV_GREAT1',\n",
    "       'PAY_DEC_GREAT1']\n",
    "train_data = pd.get_dummies( train_data,columns = cat_cols )\n",
    "predict_data = pd.get_dummies( predict_data,columns = cat_cols )\n",
    "\n"
   ]
  },
  {
   "cell_type": "code",
   "execution_count": 3,
   "metadata": {},
   "outputs": [],
   "source": [
    "t1=train_data.drop(['Client_ID', 'Balance_Limit_V1', 'PAY_AUG', 'PAY_SEP',\n",
    "       'PAY_OCT', 'PAY_NOV', 'PAY_DEC', \n",
    "         'Gender_F',\n",
    "       'Gender_M', 'EDUCATION_STATUS_Graduate', 'EDUCATION_STATUS_High School',\n",
    "       'EDUCATION_STATUS_Other', 'MARITAL_STATUS_Other',\n",
    "       'MARITAL_STATUS_Single', 'AGE_31-45', 'AGE_46-65', 'AGE_Less than 30',\n",
    "       'AGE_More than 65', 'PAY_SEP_GREAT1_False',\n",
    "       'PAY_SEP_GREAT1_True', 'PAY_OCT_GREAT1_False', 'PAY_OCT_GREAT1_True',\n",
    "       'PAY_NOV_GREAT1_False', 'PAY_NOV_GREAT1_True', 'PAY_DEC_GREAT1_False',\n",
    "       'PAY_DEC_GREAT1_True'],axis=1)\n",
    "\n",
    "\n",
    "t2=predict_data.drop(['Client_ID', 'Balance_Limit_V1', 'PAY_AUG', 'PAY_SEP',\n",
    "       'PAY_OCT', 'PAY_NOV', 'PAY_DEC', \n",
    "         'Gender_F',\n",
    "       'Gender_M', 'EDUCATION_STATUS_Graduate', 'EDUCATION_STATUS_High School',\n",
    "       'EDUCATION_STATUS_Other', 'MARITAL_STATUS_Other',\n",
    "       'MARITAL_STATUS_Single', 'AGE_31-45', 'AGE_46-65', 'AGE_Less than 30',\n",
    "       'AGE_More than 65', 'PAY_SEP_GREAT1_False',\n",
    "       'PAY_SEP_GREAT1_True', 'PAY_OCT_GREAT1_False', 'PAY_OCT_GREAT1_True',\n",
    "       'PAY_NOV_GREAT1_False', 'PAY_NOV_GREAT1_True', 'PAY_DEC_GREAT1_False',\n",
    "       'PAY_DEC_GREAT1_True'],axis=1)"
   ]
  },
  {
   "cell_type": "code",
   "execution_count": 4,
   "metadata": {},
   "outputs": [],
   "source": [
    "X_train_ud, X, y_train_ud, y = train_test_split(t1.drop('NEXT_MONTH_DEFAULT',axis=1),t1['NEXT_MONTH_DEFAULT'],test_size = 0.3,shuffle=True)\n",
    "X_val_ud, X_test_ud, y_val_ud, y_test_ud = train_test_split(X,y,test_size = 0.5,shuffle=False) \n",
    "\n",
    "X_predict_ud=t2"
   ]
  },
  {
   "cell_type": "code",
   "execution_count": 5,
   "metadata": {},
   "outputs": [],
   "source": [
    "X_train=X_train_ud\n",
    "X_test=X_test_ud\n",
    "y_train=y_train_ud\n",
    "y_test=y_test_ud\n",
    "X_val=X_val_ud\n",
    "y_val=y_val_ud\n",
    "X_pred=X_predict_ud"
   ]
  },
  {
   "cell_type": "code",
   "execution_count": 6,
   "metadata": {},
   "outputs": [
    {
     "data": {
      "text/plain": [
       "<matplotlib.axes._subplots.AxesSubplot at 0x17ed8fb8710>"
      ]
     },
     "execution_count": 6,
     "metadata": {},
     "output_type": "execute_result"
    },
    {
     "data": {
      "image/png": "[encoded data removed]",
      "text/plain": [
       "<Figure size 432x288 with 1 Axes>"
      ]
     },
     "metadata": {
      "needs_background": "light"
     },
     "output_type": "display_data"
    }
   ],
   "source": [
    "plt.figure\n",
    "y_train_ud.value_counts().plot(kind='bar', title='Count (target)')"
   ]
  },
  {
   "cell_type": "code",
   "execution_count": 7,
   "metadata": {},
   "outputs": [
    {
     "data": {
      "text/plain": [
       "<matplotlib.axes._subplots.AxesSubplot at 0x17ed8c3d438>"
      ]
     },
     "execution_count": 7,
     "metadata": {},
     "output_type": "execute_result"
    },
    {
     "data": {
      "image/png": "[encoded data removed]",
      "text/plain": [
       "<Figure size 432x288 with 1 Axes>"
      ]
     },
     "metadata": {
      "needs_background": "light"
     },
     "output_type": "display_data"
    }
   ],
   "source": [
    "y_val_ud.value_counts().plot(kind='bar', title='Count (target)')"
   ]
  },
  {
   "cell_type": "code",
   "execution_count": 8,
   "metadata": {},
   "outputs": [
    {
     "data": {
      "text/plain": [
       "<matplotlib.axes._subplots.AxesSubplot at 0x17ed8cfc6d8>"
      ]
     },
     "execution_count": 8,
     "metadata": {},
     "output_type": "execute_result"
    },
    {
     "data": {
      "image/png": "[encoded data removed]",
      "text/plain": [
       "<Figure size 432x288 with 1 Axes>"
      ]
     },
     "metadata": {
      "needs_background": "light"
     },
     "output_type": "display_data"
    }
   ],
   "source": [
    "y_test_ud.value_counts().plot(kind='bar', title='Count (target)')"
   ]
  },
  {
   "cell_type": "code",
   "execution_count": 9,
   "metadata": {},
   "outputs": [],
   "source": [
    "import numpy as np\n",
    "from sklearn.metrics import precision_score, recall_score, accuracy_score\n",
    "from sklearn.metrics import classification_report, confusion_matrix,roc_auc_score,roc_curve\n"
   ]
  },
  {
   "cell_type": "code",
   "execution_count": 10,
   "metadata": {},
   "outputs": [
    {
     "name": "stderr",
     "output_type": "stream",
     "text": [
      "Using TensorFlow backend.\n"
     ]
    }
   ],
   "source": [
    "# Use Balanced Dataset\n",
    "from imblearn.over_sampling import RandomOverSampler\n",
    "ros=RandomOverSampler(random_state=0)\n",
    "X_train_ud,y_train_ud=ros.fit_resample(X_train_ud,y_train_ud)\n",
    "X_val_ud,y_val_ud=ros.fit_resample(X_val_ud,y_val_ud)"
   ]
  },
  {
   "cell_type": "code",
   "execution_count": 11,
   "metadata": {},
   "outputs": [
    {
     "data": {
      "text/plain": [
       "(16800,)"
      ]
     },
     "execution_count": 11,
     "metadata": {},
     "output_type": "execute_result"
    }
   ],
   "source": [
    "y_train.shape\n"
   ]
  },
  {
   "cell_type": "code",
   "execution_count": 12,
   "metadata": {},
   "outputs": [
    {
     "name": "stderr",
     "output_type": "stream",
     "text": [
      "C:\\Users\\Udith\\anaconda_\\envs\\opencv\\lib\\site-packages\\xgboost\\core.py:587: FutureWarning: Series.base is deprecated and will be removed in a future version\n",
      "  if getattr(data, 'base', None) is not None and \\\n"
     ]
    },
    {
     "name": "stdout",
     "output_type": "stream",
     "text": [
      "Precision = 0.7635038785240322\n",
      "Recall = 0.6487226104495839\n",
      "Train_Accuracy = 0.8238690476190477\n",
      "Val_Accuracy = 0.8261111111111111\n",
      "Test_Accuracy = 0.8119444444444445\n",
      "\n",
      "For train Data\n",
      "\n",
      "              precision    recall  f1-score   support\n",
      "\n",
      "           0       0.83      0.96      0.89      2758\n",
      "           1       0.70      0.34      0.46       842\n",
      "\n",
      "    accuracy                           0.81      3600\n",
      "   macro avg       0.76      0.65      0.67      3600\n",
      "weighted avg       0.80      0.81      0.79      3600\n",
      "\n",
      "\n",
      "\n",
      "[[2635  123]\n",
      " [ 554  288]]\n"
     ]
    }
   ],
   "source": [
    "D_train = xgb.DMatrix(X_train, label=y_train)\n",
    "D_test = xgb.DMatrix(X_test, label=y_test)\n",
    "D_val = xgb.DMatrix(X_val, label=y_val)\n",
    "\n",
    "\n",
    "param = {    'eta': 0.1, \n",
    "    'max_depth': 5000,  \n",
    "    'objective': 'multi:softprob',  \n",
    "    'n_estimators':100,\n",
    "    'num_class': 3,\n",
    "    'colsample_bytree':0.5,\n",
    "    'subsample':0.5,\n",
    "    'learning_rate':0.01,\n",
    "    'min_child_weight':10,\n",
    "    'num_parallel_tree':5,\n",
    "    'lambda':6,\n",
    "        'alpha':2\n",
    "\n",
    "}\n",
    "steps =100\n",
    "\n",
    "model = xgb.train(param, D_train, steps)\n",
    "\n",
    "\n",
    "\n",
    "preds = model.predict(D_test)\n",
    "best_preds = np.asarray([np.argmax(line) for line in preds])\n",
    "\n",
    "print(\"Precision = {}\".format(precision_score(y_test, best_preds, average='macro')))\n",
    "print(\"Recall = {}\".format(recall_score(y_test, best_preds, average='macro')))\n",
    "print(\"Train_Accuracy = {}\".format(accuracy_score(y_train, np.asarray([np.argmax(line) for line in model.predict(D_train)]))))\n",
    "print(\"Val_Accuracy = {}\".format(accuracy_score(y_val, np.asarray([np.argmax(line) for line in model.predict(D_val)]))))\n",
    "print(\"Test_Accuracy = {}\".format(accuracy_score(y_test, best_preds)))\n",
    "\n",
    "print('\\nFor train Data\\n')\n",
    "print(classification_report(y_test,best_preds))\n",
    "print ('\\n')\n",
    "print(confusion_matrix(y_test,best_preds))"
   ]
  },
  {
   "cell_type": "code",
   "execution_count": 21,
   "metadata": {},
   "outputs": [
    {
     "name": "stdout",
     "output_type": "stream",
     "text": [
      "Precision = 0.7627802444019849\n",
      "Recall = 0.6564108901937615\n",
      "Accuracy = 0.8136111111111111\n",
      "              precision    recall  f1-score   support\n",
      "\n",
      "           0       0.83      0.95      0.89      2758\n",
      "           1       0.70      0.36      0.48       842\n",
      "\n",
      "    accuracy                           0.81      3600\n",
      "   macro avg       0.76      0.66      0.68      3600\n",
      "weighted avg       0.80      0.81      0.79      3600\n",
      "\n",
      "\n",
      "\n",
      "[[2625  133]\n",
      " [ 538  304]]\n"
     ]
    }
   ],
   "source": [
    "### for unblanced (Have done it for unbalanced data also)\n",
    "D_train = xgb.DMatrix(X_train, label=y_train)\n",
    "D_test = xgb.DMatrix(X_test, label=y_test)\n",
    "\n",
    "param = {\n",
    "    'eta': 0.3, \n",
    "    'max_depth': 2,  \n",
    "    'objective': 'multi:softprob',  \n",
    "    'n_estimators':1200,\n",
    "    'num_class': 3,\n",
    "    'colsample_bytree':0.7,\n",
    "    'subsample':0.800,\n",
    "    'learning_rate':0.3,\n",
    "    'gamma':0,\n",
    "    'min_child_weight':12,\n",
    "    'num_parallel_tree':8\n",
    "}\n",
    "steps =20\n",
    "\n",
    "model = xgb.train(param, D_train, steps)\n",
    "\n",
    "import numpy as np\n",
    "from sklearn.metrics import precision_score, recall_score, accuracy_score\n",
    "\n",
    "preds = model.predict(D_test)\n",
    "best_preds = np.asarray([np.argmax(line) for line in preds])\n",
    "\n",
    "print(\"Precision = {}\".format(precision_score(y_test, best_preds, average='macro')))\n",
    "print(\"Recall = {}\".format(recall_score(y_test, best_preds, average='macro')))\n",
    "print(\"Accuracy = {}\".format(accuracy_score(y_test, best_preds)))\n",
    "\n",
    "from sklearn.metrics import classification_report, confusion_matrix,roc_auc_score,roc_curve\n",
    "\n",
    "print(classification_report(y_test,best_preds))\n",
    "print ('\\n')\n",
    "print(confusion_matrix(y_test,best_preds))"
   ]
  },
  {
   "cell_type": "code",
   "execution_count": 22,
   "metadata": {},
   "outputs": [],
   "source": [
    "D_pred = xgb.DMatrix(X_pred)"
   ]
  },
  {
   "cell_type": "code",
   "execution_count": 23,
   "metadata": {},
   "outputs": [
    {
     "name": "stdout",
     "output_type": "stream",
     "text": [
      "Stored 'preds' (ndarray)\n"
     ]
    }
   ],
   "source": [
    "preds = np.asarray([np.argmax(line) for line in model.predict(D_pred)])\n",
    "%store preds #this preds are used for sumbitting"
   ]
  },
  {
   "cell_type": "code",
   "execution_count": null,
   "metadata": {},
   "outputs": [],
   "source": []
  },
  {
   "cell_type": "code",
   "execution_count": null,
   "metadata": {},
   "outputs": [],
   "source": []
  }
 ],
 "metadata": {
  "kernelspec": {
   "display_name": "Python 3",
   "language": "python",
   "name": "python3"
  },
  "language_info": {
   "codemirror_mode": {
    "name": "ipython",
    "version": 3
   },
   "file_extension": ".py",
   "mimetype": "text/x-python",
   "name": "python",
   "nbconvert_exporter": "python",
   "pygments_lexer": "ipython3",
   "version": "3.6.5"
  }
 },
 "nbformat": 4,
 "nbformat_minor": 4
}
